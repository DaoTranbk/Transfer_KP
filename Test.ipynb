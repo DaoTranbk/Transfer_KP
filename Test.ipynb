{
 "cells": [
  {
   "cell_type": "code",
   "execution_count": 2,
   "metadata": {},
   "outputs": [],
   "source": [
    "import os\n",
    "import numpy as np\n",
    "from utils.tools import Tools\n"
   ]
  },
  {
   "cell_type": "markdown",
   "metadata": {},
   "source": [
    "# KP Problem"
   ]
  },
  {
   "cell_type": "markdown",
   "metadata": {},
   "source": [
    "## Knapsack"
   ]
  },
  {
   "cell_type": "code",
   "execution_count": 3,
   "metadata": {},
   "outputs": [],
   "source": [
    "def is_positive_integer(X):\n",
    "    return np.logical_and((X > 0), (np.floor(X) == X))\n",
    "\n",
    "def knapsack(weights, values, W):\n",
    "    \"\"\"KNAPSACK Solves the 0-1 knapsack problem for positive integer weights\n",
    "\n",
    "  [BEST AMOUNT] = KNAPSACK(WEIGHTS, VALUES, CONSTRAINT)\n",
    "       \n",
    "       WEIGHTS    : The weight of every item (1-by-N)\n",
    "       VALUES     : The value of every item (1-by-N)\n",
    "       CONSTRAINT : The weight constraint of the knapsack (scalar)\n",
    "\n",
    "       BEST       : Value of best possible knapsack (scalar)\n",
    "       AMOUNT     : 1-by-N vector specifying the amount to use of each item (0 or 1)\n",
    "\n",
    "\n",
    "    EXAMPLE :\n",
    "\n",
    "        weights = [1 1 1 1 2 2 3];\n",
    "        values  = [1 1 2 3 1 3 5];\n",
    "        [best amount] = KNAPSACK(weights, values, 7)\n",
    "\n",
    "        best =\n",
    "\n",
    "            13\n",
    "\n",
    "\n",
    "        amount =\n",
    "\n",
    "             0     0     1     1     0     1     1\n",
    "\"\"\"\n",
    "\n",
    "    if not all(is_positive_integer(weights)) or not is_positive_integer(W):\n",
    "        raise Exception('Weights must be positive integers')\n",
    "\n",
    "    # We work in one dimension\n",
    "    #     M, N = weights.shape;\n",
    "    weights = weights[:]\n",
    "    values = values[:]\n",
    "    if len(weights) != len(values):\n",
    "        raise Exception('The size of weights must match the size of values')\n",
    "\n",
    "    # Solve the problem\n",
    "    A = np.zeros((len(weights) + 1, W + 1))\n",
    "    # A(j+1,Y+1) means the value of the best knapsack with capacity Y using\n",
    "    # the first j items.\n",
    "    for j in range(len(weights)):\n",
    "        for Y in range(W):\n",
    "            if weights[j] > Y + 1:\n",
    "                A[j + 1, Y + 1] = A[j, Y + 1]\n",
    "            else:\n",
    "                A[j + 1, Y + 1] = max(A[j, Y + 1], values[j] + A[j, int(Y - weights[j] + 1)])\n",
    "\n",
    "    best = A[-1, -1]\n",
    "    # Now backtrack\n",
    "    amount = np.zeros(len(weights))\n",
    "    a = best\n",
    "    j = len(weights) - 1\n",
    "    Y = W - 1\n",
    "    while a > 0:\n",
    "        while A[j + 1, Y + 1] == a:\n",
    "            j = j - 1\n",
    "\n",
    "        j = j + 1  # This item has to be in the knapsack\n",
    "        amount[j] = 1\n",
    "        Y = int(Y - weights[j])\n",
    "        j = j - 1\n",
    "        a = A[j + 1, Y + 1]\n",
    "    return best, amount"
   ]
  },
  {
   "cell_type": "code",
   "execution_count": 15,
   "metadata": {},
   "outputs": [
    {
     "name": "stdout",
     "output_type": "stream",
     "text": [
      "3.0\n",
      "[0. 0. 1. 0. 0. 0. 0.]\n"
     ]
    }
   ],
   "source": [
    "weights = np.array((1 , 1, 1, 1, 2, 2, 3))\n",
    "values  = np.array((1 , 1, 3, 2, 1, 3, 5))\n",
    "best, amount = knapsack(weights, values, 1)\n",
    "print(best)\n",
    "print(amount)"
   ]
  },
  {
   "cell_type": "code",
   "execution_count": 23,
   "metadata": {},
   "outputs": [],
   "source": [
    "def GenKnapsack(n=1000, v=10, r=5, type_wp='uc', type_c='rk', addr=\"problems/knapsack\"):\n",
    "    assert type_wp in ['uc', 'wc', 'sc'], 'type_wp is not valid'\n",
    "    assert type_c in ['rk', 'ak'], 'type_wp is not valid'\n",
    "    #    type_wp = 'uc';  strong or weakly or un-correlated\n",
    "    #    type_c = 'rk';  average or restrictive knapsack --- ALWAYS we choose average\n",
    "    w = (1 + np.round(np.random.rand(n) * (v - 1)))\n",
    "    if type_wp == 'uc':\n",
    "        p = 1 + np.round(np.random.rand(n) * (v - 1));\n",
    "    elif type_wp == 'wc':\n",
    "        p = w + np.round(r - 2 * r * np.random.rand(n));\n",
    "        p[p <= 0] = w[p <= 0];\n",
    "    elif type_wp == 'sc':\n",
    "        p = w + r;\n",
    "\n",
    "    if type_c == 'rk':\n",
    "        cap = int(2 * v);\n",
    "    elif type_c == 'ak':\n",
    "        cap = int(0.5 * np.sum(w));\n",
    "\n",
    "    #     print(w, p, cap)\n",
    "    th_best, _ = knapsack(w, p, cap)\n",
    "\n",
    "    KP_uc_rk = {}\n",
    "    KP_uc_rk['w'] = w;\n",
    "    KP_uc_rk['p'] = p;\n",
    "    KP_uc_rk['cap'] = cap;\n",
    "    KP_uc_rk['opt'] = th_best;\n",
    "\n",
    "    Tools.save_to_file(os.path.join(addr, 'KP_{}_{}'.format(type_wp, type_c)), KP_uc_rk)"
   ]
  },
  {
   "cell_type": "code",
   "execution_count": 24,
   "metadata": {},
   "outputs": [],
   "source": [
    "knapsack_problem_path = 'problems/knapsack'\n",
    "for type_wp in ['uc', 'wc', 'sc']:\n",
    "    for type_c in ['rk', 'ak']:\n",
    "        GenKnapsack(type_wp=type_wp, type_c=type_c, addr=knapsack_problem_path)"
   ]
  },
  {
   "cell_type": "code",
   "execution_count": 19,
   "metadata": {},
   "outputs": [],
   "source": [
    "knapsack_problem_path = 'problems/knapsack'\n",
    "\n",
    "KP_sc_ak = Tools.load_from_file(os.path.join(knapsack_problem_path, 'KP_sc_ak'))\n",
    "KP_uc_ak = Tools.load_from_file(os.path.join(knapsack_problem_path, 'KP_uc_ak'))\n",
    "KP_wc_ak = Tools.load_from_file(os.path.join(knapsack_problem_path, 'KP_wc_ak'))\n",
    "KP_wc_rk = Tools.load_from_file(os.path.join(knapsack_problem_path, 'KP_wc_rk'))\n",
    "KP_sc_rk = Tools.load_from_file(os.path.join(knapsack_problem_path, 'KP_sc_rk'))\n",
    "KP_uc_rk = Tools.load_from_file(os.path.join(knapsack_problem_path, 'KP_uc_rk'))\n",
    "\n",
    "all_models = []\n",
    "\n",
    "Tools.save_to_file(os.path.join(knapsack_problem_path, 'all_models'), all_models)"
   ]
  },
  {
   "cell_type": "markdown",
   "metadata": {},
   "source": [
    "## KP_BGA"
   ]
  },
  {
   "cell_type": "code",
   "execution_count": null,
   "metadata": {},
   "outputs": [],
   "source": []
  }
 ],
 "metadata": {
  "kernelspec": {
   "display_name": "Python 3",
   "language": "python",
   "name": "python3"
  },
  "language_info": {
   "codemirror_mode": {
    "name": "ipython",
    "version": 3
   },
   "file_extension": ".py",
   "mimetype": "text/x-python",
   "name": "python",
   "nbconvert_exporter": "python",
   "pygments_lexer": "ipython3",
   "version": "3.6.9"
  }
 },
 "nbformat": 4,
 "nbformat_minor": 4
}
