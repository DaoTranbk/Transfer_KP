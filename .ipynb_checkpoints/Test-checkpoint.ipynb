{
 "cells": [
  {
   "cell_type": "code",
   "execution_count": 1,
   "metadata": {},
   "outputs": [],
   "source": [
    "import os\n",
    "import numpy as np\n",
    "from utils.tools import Tools\n"
   ]
  },
  {
   "cell_type": "markdown",
   "metadata": {},
   "source": [
    "# KP Problem"
   ]
  },
  {
   "cell_type": "markdown",
   "metadata": {},
   "source": [
    "## Knapsack"
   ]
  },
  {
   "cell_type": "code",
   "execution_count": 2,
   "metadata": {},
   "outputs": [],
   "source": [
    "def is_positive_integer(X):\n",
    "    return np.logical_and((X > 0), (np.floor(X) == X))\n",
    "\n",
    "def knapsack(weights, values, W):\n",
    "    \"\"\"KNAPSACK Solves the 0-1 knapsack problem for positive integer weights\n",
    "\n",
    "  [BEST AMOUNT] = KNAPSACK(WEIGHTS, VALUES, CONSTRAINT)\n",
    "       \n",
    "       WEIGHTS    : The weight of every item (1-by-N)\n",
    "       VALUES     : The value of every item (1-by-N)\n",
    "       CONSTRAINT : The weight constraint of the knapsack (scalar)\n",
    "\n",
    "       BEST       : Value of best possible knapsack (scalar)\n",
    "       AMOUNT     : 1-by-N vector specifying the amount to use of each item (0 or 1)\n",
    "\n",
    "\n",
    "    EXAMPLE :\n",
    "\n",
    "        weights = [1 1 1 1 2 2 3];\n",
    "        values  = [1 1 2 3 1 3 5];\n",
    "        [best amount] = KNAPSACK(weights, values, 7)\n",
    "\n",
    "        best =\n",
    "\n",
    "            13\n",
    "\n",
    "\n",
    "        amount =\n",
    "\n",
    "             0     0     1     1     0     1     1\n",
    "\"\"\"\n",
    "\n",
    "    if not all(is_positive_integer(weights)) or not is_positive_integer(W):\n",
    "        raise Exception('Weights must be positive integers')\n",
    "\n",
    "    # We work in one dimension\n",
    "    #     M, N = weights.shape;\n",
    "    weights = weights[:]\n",
    "    values = values[:]\n",
    "    if len(weights) != len(values):\n",
    "        raise Exception('The size of weights must match the size of values')\n",
    "\n",
    "    # Solve the problem\n",
    "    A = np.zeros((len(weights) + 1, W + 1))\n",
    "    # A(j+1,Y+1) means the value of the best knapsack with capacity Y using\n",
    "    # the first j items.\n",
    "    for j in range(len(weights)):\n",
    "        for Y in range(W):\n",
    "            if weights[j] > Y + 1:\n",
    "                A[j + 1, Y + 1] = A[j, Y + 1]\n",
    "            else:\n",
    "                A[j + 1, Y + 1] = max(A[j, Y + 1], values[j] + A[j, int(Y - weights[j] + 1)])\n",
    "\n",
    "    best = A[-1, -1]\n",
    "    # Now backtrack\n",
    "    amount = np.zeros(len(weights))\n",
    "    a = best\n",
    "    j = len(weights) - 1\n",
    "    Y = W - 1\n",
    "    while a > 0:\n",
    "        while A[j + 1, Y + 1] == a:\n",
    "            j = j - 1\n",
    "\n",
    "        j = j + 1  # This item has to be in the knapsack\n",
    "        amount[j] = 1\n",
    "        Y = int(Y - weights[j])\n",
    "        j = j - 1\n",
    "        a = A[j + 1, Y + 1]\n",
    "    return best, amount"
   ]
  },
  {
   "cell_type": "code",
   "execution_count": 3,
   "metadata": {},
   "outputs": [
    {
     "name": "stdout",
     "output_type": "stream",
     "text": [
      "3.0\n",
      "[0. 0. 1. 0. 0. 0. 0.]\n"
     ]
    }
   ],
   "source": [
    "weights = np.array((1 , 1, 1, 1, 2, 2, 3))\n",
    "values  = np.array((1 , 1, 3, 2, 1, 3, 5))\n",
    "best, amount = knapsack(weights, values, 1)\n",
    "print(best)\n",
    "print(amount)"
   ]
  },
  {
   "cell_type": "code",
   "execution_count": 4,
   "metadata": {},
   "outputs": [],
   "source": [
    "def GenKnapsack(n=1000, v=10, r=5, type_wp='uc', type_c='rk', addr=\"problems/knapsack\"):\n",
    "    assert type_wp in ['uc', 'wc', 'sc'], 'type_wp is not valid'\n",
    "    assert type_c in ['rk', 'ak'], 'type_wp is not valid'\n",
    "    # type_wc: Các trường hợp phân loại KP \n",
    "    #     *uc : không phù hợp\n",
    "    #     *wc : phù hợp mức độ thấp\n",
    "    #     *sc : phù hợp cao \n",
    "    # type_c: Công suất chứa \n",
    "    #     *rk : Công suất hạn chế\n",
    "    #     *ak : Công suất trung bình\n",
    "    w = (1 + np.round(np.random.rand(n) * (v - 1)))\n",
    "    if type_wp == 'uc':\n",
    "        p = 1 + np.round(np.random.rand(n) * (v - 1))\n",
    "    elif type_wp == 'wc':\n",
    "        p = w + np.round(r - 2 * r * np.random.rand(n))\n",
    "        p[p <= 0] = w[p <= 0]\n",
    "    elif type_wp == 'sc':\n",
    "        p = w + r\n",
    "\n",
    "    if type_c == 'rk':\n",
    "        cap = int(2 * v)\n",
    "    elif type_c == 'ak':\n",
    "        cap = int(0.5 * np.sum(w))\n",
    "\n",
    "    th_best, _ = knapsack(w, p, cap)\n",
    "\n",
    "    KP_uc_rk = {}\n",
    "    KP_uc_rk['w'] = w\n",
    "    KP_uc_rk['p'] = p\n",
    "    KP_uc_rk['cap'] = cap\n",
    "    KP_uc_rk['opt'] = th_best\n",
    "\n",
    "    Tools.save_to_file(os.path.join(addr, 'KP_{}_{}'.format(type_wp, type_c)), KP_uc_rk)"
   ]
  },
  {
   "cell_type": "code",
   "execution_count": 5,
   "metadata": {},
   "outputs": [],
   "source": [
    "knapsack_problem_path = 'problems/knapsack'\n",
    "for type_wp in ['uc', 'wc', 'sc']:\n",
    "    for type_c in ['rk', 'ak']:\n",
    "        GenKnapsack(type_wp=type_wp, type_c=type_c, addr=knapsack_problem_path)"
   ]
  },
  {
   "cell_type": "code",
   "execution_count": 8,
   "metadata": {},
   "outputs": [],
   "source": [
    "knapsack_problem_path = 'problems/knapsack'\n",
    "\n",
    "KP_sc_ak = Tools.load_from_file(os.path.join(knapsack_problem_path, 'KP_sc_ak'))\n",
    "KP_uc_ak = Tools.load_from_file(os.path.join(knapsack_problem_path, 'KP_uc_ak'))\n",
    "KP_wc_ak = Tools.load_from_file(os.path.join(knapsack_problem_path, 'KP_wc_ak'))\n",
    "KP_wc_rk = Tools.load_from_file(os.path.join(knapsack_problem_path, 'KP_wc_rk'))\n",
    "KP_sc_rk = Tools.load_from_file(os.path.join(knapsack_problem_path, 'KP_sc_rk'))\n",
    "KP_uc_rk = Tools.load_from_file(os.path.join(knapsack_problem_path, 'KP_uc_rk'))\n",
    "\n",
    "all_models = []\n",
    "\n",
    "Tools.save_to_file(os.path.join(knapsack_problem_path, 'all_models'), all_models)"
   ]
  },
  {
   "cell_type": "markdown",
   "metadata": {},
   "source": [
    "## KP_BGA"
   ]
  },
  {
   "cell_type": "markdown",
   "metadata": {},
   "source": [
    "### KP_fitness"
   ]
  },
  {
   "cell_type": "code",
   "execution_count": 10,
   "metadata": {},
   "outputs": [],
   "source": [
    "def knapsack_fitness_eval(population, problem, dims, pop):  \n",
    "    fitness = np.zeros(pop)\n",
    "    Weights = problem['w']\n",
    "    Profits = problem['p']\n",
    "    Ratios = Profits / Weights\n",
    "    for i in range(pop):\n",
    "        BV = population[i, :] == 1\n",
    "        TotalWeight = np.sum(Weights[BV])\n",
    "        TotalProfit = np.sum(Profits[BV])\n",
    "\n",
    "        if TotalWeight > problem['cap']:  # Repair solution\n",
    "            selections = np.sum(BV)\n",
    "            List = np.zeros((selections, 2))\n",
    "            counter = 0\n",
    "            for j in range(dims):\n",
    "                if BV[j] == 1:\n",
    "                    List[counter, 0] = Ratios[j]\n",
    "                    List[counter, 1] = int(j)\n",
    "                    counter = counter + 1\n",
    "\n",
    "                if counter >= selections:\n",
    "                    break\n",
    "            List = List[List[:, 0].argsort()[::-1]]\n",
    "            counter = selections - 1\n",
    "            while TotalWeight > problem['cap']:\n",
    "                l = int(List[counter, 1])\n",
    "                BV[l] = 0\n",
    "                TotalWeight = TotalWeight - Weights[l]\n",
    "                TotalProfit = TotalProfit - Profits[l]\n",
    "                counter = counter - 1\n",
    "\n",
    "        fitness[i] = TotalProfit\n",
    "    return fitness"
   ]
  },
  {
   "cell_type": "code",
   "execution_count": 6,
   "metadata": {},
   "outputs": [],
   "source": [
    "def KP_BGA(problem, dims, premSTOP, pop=100, gen=100, addr=\"problems/toy_problem\"):\n",
    "    \"\"\"[bestSol, fitness_hist] = BGA(problem,dims,th_best): simple binary GA with\n",
    "        uniform crossover and bit-flip mutation. \n",
    "        INPUT:\n",
    "         problem: problem generated by GenKnapsack\n",
    "         dims: problem dimensionality\n",
    "         premSTOP: used for early stop if no improvement is made for 20\n",
    "         consecutive generations\n",
    "        \n",
    "        OUTPUT:\n",
    "         bestSol: best solution\n",
    "         fitness: history of best fitness for each generation\"\"\"\n",
    "    bestSol = None\n",
    "    all_models = Tools.load_from_file(os.path.join(addr, 'all_models'))\n",
    "    fitness_hist = np.zeros(gen)\n",
    "    population = np.round(np.random.rand(pop, dims))\n",
    "    fitness = knapsack_fitness_eval(population, problem, dims, pop)\n",
    "    fitness_hist[0] = bestfitness = max(fitness)\n",
    "    print('Generation 0 best fitness = ', str(fitness_hist[0]))\n",
    "\n",
    "    counter = 0\n",
    "    for i in range(1, gen):\n",
    "        parent1 = population[np.random.permutation(pop), :]\n",
    "        parent2 = population[np.random.permutation(pop), :]\n",
    "        tmp = np.random.rand(pop, dims)\n",
    "        offspring = np.zeros((pop, dims))\n",
    "        index = tmp >= 0.5\n",
    "        offspring[index] = parent1[index]\n",
    "        index = tmp < 0.5\n",
    "        offspring[index] = parent2[index]\n",
    "        tmp = np.random.rand(pop, dims)\n",
    "        index = tmp < (1 / dims)\n",
    "        offspring[index] = np.abs(1 - offspring[index])\n",
    "        cfitness = knapsack_fitness_eval(population, problem, dims, pop)\n",
    "        interpop = np.append(population, offspring, 0)\n",
    "        interfitness = np.append(fitness, cfitness)\n",
    "        index = np.argsort((-interfitness))\n",
    "        interfitness = interfitness[index]\n",
    "        fitness = interfitness[:pop]\n",
    "        interpop = interpop[index, :]\n",
    "        population = interpop[:pop, :]\n",
    "        fitness_hist[i] = fitness[0]\n",
    "        print('Generation ', str(i), ' best fitness = ', str(fitness_hist[i]))\n",
    "\n",
    "        if fitness[0] > bestfitness:\n",
    "            bestfitness = fitness[0]\n",
    "            counter = 0\n",
    "        else:\n",
    "            counter += 1\n",
    "        if counter == 20 and premSTOP:\n",
    "            fitness_hist[i:] = fitness_hist[i]\n",
    "            break\n",
    "    bestSol = population[0, :]\n",
    "    model = ProbabilityModel('umd')\n",
    "    model.buildmodel(population)\n",
    "    all_models.append(model)\n",
    "    Tools.save_to_file(os.path.join(addr, 'all_models'), all_models)\n",
    "\n",
    "    return bestSol, fitness_hist"
   ]
  },
  {
   "cell_type": "code",
   "execution_count": 11,
   "metadata": {},
   "outputs": [
    {
     "name": "stdout",
     "output_type": "stream",
     "text": [
      "Generation 0 best fitness =  166.0\n",
      "Generation  1  best fitness =  166.0\n",
      "Generation  2  best fitness =  166.0\n",
      "Generation  3  best fitness =  166.0\n",
      "Generation  4  best fitness =  166.0\n",
      "Generation  5  best fitness =  166.0\n",
      "Generation  6  best fitness =  166.0\n",
      "Generation  7  best fitness =  166.0\n",
      "Generation  8  best fitness =  166.0\n",
      "Generation  9  best fitness =  166.0\n",
      "Generation  10  best fitness =  166.0\n",
      "Generation  11  best fitness =  166.0\n",
      "Generation  12  best fitness =  166.0\n",
      "Generation  13  best fitness =  166.0\n",
      "Generation  14  best fitness =  166.0\n",
      "Generation  15  best fitness =  166.0\n",
      "Generation  16  best fitness =  166.0\n",
      "Generation  17  best fitness =  166.0\n",
      "Generation  18  best fitness =  166.0\n",
      "Generation  19  best fitness =  166.0\n",
      "Generation  20  best fitness =  166.0\n"
     ]
    },
    {
     "ename": "NameError",
     "evalue": "name 'ProbabilityModel' is not defined",
     "output_type": "error",
     "traceback": [
      "\u001b[0;31m---------------------------------------------------------------------------\u001b[0m",
      "\u001b[0;31mNameError\u001b[0m                                 Traceback (most recent call last)",
      "\u001b[0;32m<ipython-input-11-3a1f004c8fb3>\u001b[0m in \u001b[0;36m<module>\u001b[0;34m\u001b[0m\n\u001b[1;32m      1\u001b[0m \u001b[0;31m# build source probabilistic models\u001b[0m\u001b[0;34m\u001b[0m\u001b[0;34m\u001b[0m\u001b[0;34m\u001b[0m\u001b[0m\n\u001b[0;32m----> 2\u001b[0;31m \u001b[0mKP_BGA\u001b[0m\u001b[0;34m(\u001b[0m\u001b[0mKP_uc_rk\u001b[0m\u001b[0;34m,\u001b[0m \u001b[0;36m1000\u001b[0m\u001b[0;34m,\u001b[0m \u001b[0;32mTrue\u001b[0m\u001b[0;34m,\u001b[0m \u001b[0maddr\u001b[0m\u001b[0;34m=\u001b[0m\u001b[0;34m\"problems/knapsack\"\u001b[0m\u001b[0;34m)\u001b[0m\u001b[0;34m\u001b[0m\u001b[0;34m\u001b[0m\u001b[0m\n\u001b[0m\u001b[1;32m      3\u001b[0m \u001b[0mKP_BGA\u001b[0m\u001b[0;34m(\u001b[0m\u001b[0mKP_sc_rk\u001b[0m\u001b[0;34m,\u001b[0m \u001b[0;36m1000\u001b[0m\u001b[0;34m,\u001b[0m \u001b[0;32mTrue\u001b[0m\u001b[0;34m,\u001b[0m \u001b[0maddr\u001b[0m\u001b[0;34m=\u001b[0m\u001b[0;34m\"problems/knapsack\"\u001b[0m\u001b[0;34m)\u001b[0m\u001b[0;34m\u001b[0m\u001b[0;34m\u001b[0m\u001b[0m\n\u001b[1;32m      4\u001b[0m \u001b[0mKP_BGA\u001b[0m\u001b[0;34m(\u001b[0m\u001b[0mKP_wc_rk\u001b[0m\u001b[0;34m,\u001b[0m \u001b[0;36m1000\u001b[0m\u001b[0;34m,\u001b[0m \u001b[0;32mTrue\u001b[0m\u001b[0;34m,\u001b[0m \u001b[0maddr\u001b[0m\u001b[0;34m=\u001b[0m\u001b[0;34m\"problems/knapsack\"\u001b[0m\u001b[0;34m)\u001b[0m\u001b[0;34m\u001b[0m\u001b[0;34m\u001b[0m\u001b[0m\n\u001b[1;32m      5\u001b[0m \u001b[0mKP_BGA\u001b[0m\u001b[0;34m(\u001b[0m\u001b[0mKP_sc_ak\u001b[0m\u001b[0;34m,\u001b[0m \u001b[0;36m1000\u001b[0m\u001b[0;34m,\u001b[0m \u001b[0;32mTrue\u001b[0m\u001b[0;34m,\u001b[0m \u001b[0maddr\u001b[0m\u001b[0;34m=\u001b[0m\u001b[0;34m\"problems/knapsack\"\u001b[0m\u001b[0;34m)\u001b[0m\u001b[0;34m\u001b[0m\u001b[0;34m\u001b[0m\u001b[0m\n",
      "\u001b[0;32m<ipython-input-6-8fe832d4701d>\u001b[0m in \u001b[0;36mKP_BGA\u001b[0;34m(problem, dims, premSTOP, pop, gen, addr)\u001b[0m\n\u001b[1;32m     52\u001b[0m             \u001b[0;32mbreak\u001b[0m\u001b[0;34m\u001b[0m\u001b[0;34m\u001b[0m\u001b[0m\n\u001b[1;32m     53\u001b[0m     \u001b[0mbestSol\u001b[0m \u001b[0;34m=\u001b[0m \u001b[0mpopulation\u001b[0m\u001b[0;34m[\u001b[0m\u001b[0;36m0\u001b[0m\u001b[0;34m,\u001b[0m \u001b[0;34m:\u001b[0m\u001b[0;34m]\u001b[0m\u001b[0;34m\u001b[0m\u001b[0;34m\u001b[0m\u001b[0m\n\u001b[0;32m---> 54\u001b[0;31m     \u001b[0mmodel\u001b[0m \u001b[0;34m=\u001b[0m \u001b[0mProbabilityModel\u001b[0m\u001b[0;34m(\u001b[0m\u001b[0;34m'umd'\u001b[0m\u001b[0;34m)\u001b[0m\u001b[0;34m\u001b[0m\u001b[0;34m\u001b[0m\u001b[0m\n\u001b[0m\u001b[1;32m     55\u001b[0m     \u001b[0mmodel\u001b[0m\u001b[0;34m.\u001b[0m\u001b[0mbuildmodel\u001b[0m\u001b[0;34m(\u001b[0m\u001b[0mpopulation\u001b[0m\u001b[0;34m)\u001b[0m\u001b[0;34m\u001b[0m\u001b[0;34m\u001b[0m\u001b[0m\n\u001b[1;32m     56\u001b[0m     \u001b[0mall_models\u001b[0m\u001b[0;34m.\u001b[0m\u001b[0mappend\u001b[0m\u001b[0;34m(\u001b[0m\u001b[0mmodel\u001b[0m\u001b[0;34m)\u001b[0m\u001b[0;34m\u001b[0m\u001b[0;34m\u001b[0m\u001b[0m\n",
      "\u001b[0;31mNameError\u001b[0m: name 'ProbabilityModel' is not defined"
     ]
    }
   ],
   "source": [
    "# build source probabilistic models\n",
    "KP_BGA(KP_uc_rk, 1000, True, addr=\"problems/knapsack\")\n",
    "KP_BGA(KP_sc_rk, 1000, True, addr=\"problems/knapsack\")\n",
    "KP_BGA(KP_wc_rk, 1000, True, addr=\"problems/knapsack\")\n",
    "KP_BGA(KP_sc_ak, 1000, True, addr=\"problems/knapsack\")"
   ]
  },
  {
   "cell_type": "code",
   "execution_count": null,
   "metadata": {},
   "outputs": [],
   "source": []
  }
 ],
 "metadata": {
  "kernelspec": {
   "display_name": "Python 3",
   "language": "python",
   "name": "python3"
  },
  "language_info": {
   "codemirror_mode": {
    "name": "ipython",
    "version": 3
   },
   "file_extension": ".py",
   "mimetype": "text/x-python",
   "name": "python",
   "nbconvert_exporter": "python",
   "pygments_lexer": "ipython3",
   "version": "3.6.9"
  }
 },
 "nbformat": 4,
 "nbformat_minor": 4
}
